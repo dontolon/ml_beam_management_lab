{
 "cells": [
  {
   "cell_type": "code",
   "execution_count": 2,
   "id": "fcf852ae",
   "metadata": {},
   "outputs": [
    {
     "name": "stdout",
     "output_type": "stream",
     "text": [
      "Cloning into 'ml_beam_management_lab'...\n",
      "remote: Enumerating objects: 24, done.\u001b[K\n",
      "remote: Counting objects: 100% (24/24), done.\u001b[K\n",
      "remote: Compressing objects: 100% (19/19), done.\u001b[K\n",
      "remote: Total 24 (delta 4), reused 22 (delta 2), pack-reused 0 (from 0)\u001b[K\n",
      "Receiving objects: 100% (24/24), 1.38 MiB | 3.79 MiB/s, done.\n",
      "Resolving deltas: 100% (4/4), done.\n",
      "/home/dante/experiments/lab/notebooks/ml_beam_management_lab\n"
     ]
    },
    {
     "name": "stderr",
     "output_type": "stream",
     "text": [
      "/home/dante/.local/lib/python3.10/site-packages/IPython/core/magics/osm.py:417: UserWarning: This is now an optional IPython functionality, setting dhist requires you to install the `pickleshare` library.\n",
      "  self.shell.db['dhist'] = compress_dhist(dhist)[-100:]\n"
     ]
    }
   ],
   "source": [
    "# --- Setup: clone lab repo and enter it ---\n",
    "!git clone https://github.com/dontolon/ml_beam_management_lab.git\n",
    "%cd ml_beam_management_lab\n"
   ]
  },
  {
   "cell_type": "code",
   "execution_count": null,
   "id": "9685c1a8",
   "metadata": {},
   "outputs": [],
   "source": []
  }
 ],
 "metadata": {
  "kernelspec": {
   "display_name": "Python 3",
   "language": "python",
   "name": "python3"
  },
  "language_info": {
   "codemirror_mode": {
    "name": "ipython",
    "version": 3
   },
   "file_extension": ".py",
   "mimetype": "text/x-python",
   "name": "python",
   "nbconvert_exporter": "python",
   "pygments_lexer": "ipython3",
   "version": "3.10.12"
  }
 },
 "nbformat": 4,
 "nbformat_minor": 5
}
